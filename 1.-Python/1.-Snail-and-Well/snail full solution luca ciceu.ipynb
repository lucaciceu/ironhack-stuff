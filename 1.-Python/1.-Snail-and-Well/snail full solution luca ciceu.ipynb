{
 "cells": [
  {
   "cell_type": "code",
   "execution_count": 1,
   "metadata": {},
   "outputs": [
    {
     "name": "stdout",
     "output_type": "stream",
     "text": [
      "standard days 13\n",
      "maximum displacement 57, min displacement -8, avg displacement 18.09090909090909\n",
      "bonus days 6\n"
     ]
    }
   ],
   "source": [
    "well_height = 125\n",
    "daily_distance = 30\n",
    "nightly_distance = 20\n",
    "snail_position = 0\n",
    "\n",
    "days = 0\n",
    "while(not (days * (daily_distance - nightly_distance)) >= well_height): days = days + 1\n",
    "print(f'standard days {days}')\n",
    "\n",
    "#bonus\n",
    "days = 0\n",
    "advance_cm = [30, 21, 33, 77, 44, 45, 23, 45, 12, 34, 55]\n",
    "while(not snail_position > well_height):\n",
    "\tsnail_position = snail_position + advance_cm[days] - 20\n",
    "\tdays = days + 1\n",
    "\n",
    "per_24h = [dist - 20 for dist in advance_cm]\n",
    "max_disp = max(per_24h)\n",
    "min_disp = min(per_24h)\n",
    "avg_disp = sum(per_24h) / len(per_24h)\n",
    "\n",
    "print(f'maximum displacement {max_disp}, min displacement {min_disp}, avg displacement {avg_disp}')\n",
    "print(f'bonus days {days}')"
   ]
  },
  {
   "cell_type": "code",
   "execution_count": null,
   "metadata": {},
   "outputs": [],
   "source": []
  }
 ],
 "metadata": {
  "kernelspec": {
   "display_name": "Python 3",
   "language": "python",
   "name": "python3"
  },
  "language_info": {
   "codemirror_mode": {
    "name": "ipython",
    "version": 3
   },
   "file_extension": ".py",
   "mimetype": "text/x-python",
   "name": "python",
   "nbconvert_exporter": "python",
   "pygments_lexer": "ipython3",
   "version": "3.9.1"
  }
 },
 "nbformat": 4,
 "nbformat_minor": 4
}
