{
 "cells": [
  {
   "cell_type": "code",
   "execution_count": null,
   "metadata": {},
   "outputs": [],
   "source": [
    "def C2F(tempC):\n",
    "    return  1.8 * tempC + 32\n",
    "\n",
    "temperatures_C = [33, 66, 65, 0, 59, 60, 62, 64, 70, 76, 80, 81, 80, 83, 90, 79, 61, 53, 50, 49, 53, 48, 45, 39]\n",
    "\n",
    "min_temp = min(temperatures_C)\n",
    "max_temp = max(temperatures_C)\n",
    "above_70 = [temp for temp in temperatures_C if temp >= 70]\n",
    "avg_temp = sum(temperatures_C) / len(temperatures_C)\n",
    "\n",
    "print(f'Min temperature {min_temp}, max temperature {max_temp}, average temperature {avg_temp}')\n",
    "\n",
    "temperatures_C[3] = avg_temp\n",
    "temperatures_F = [C2F(tempC) for tempC in temperatures_C]\n",
    "\n",
    "if len(above_70) > 4 or max_temp >= 80 or avg_temp >= 65:\n",
    "    print('Much cooling needed!')"
   ]
  }
 ],
 "metadata": {
  "kernelspec": {
   "display_name": "Python 3",
   "language": "python",
   "name": "python3"
  },
  "language_info": {
   "codemirror_mode": {
    "name": "ipython",
    "version": 3
   },
   "file_extension": ".py",
   "mimetype": "text/x-python",
   "name": "python",
   "nbconvert_exporter": "python",
   "pygments_lexer": "ipython3",
   "version": "3.9.1"
  }
 },
 "nbformat": 4,
 "nbformat_minor": 4
}
