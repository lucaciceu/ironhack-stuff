{
 "cells": [
  {
   "cell_type": "code",
   "execution_count": null,
   "metadata": {},
   "outputs": [],
   "source": [
    "stops = [(10, 0), (4, 1), (3, 5), (3, 4), (5, 1), (1, 5), (5, 8), (4, 6), (2, 3)]\n",
    "stops_count = len(stops)\n",
    "\n",
    "passengers  = [stops[0][0] - stops[0][1]]\n",
    "for stop in range(1, stops_count):\n",
    "    pcount = passengers[stop-1] + stops[stop][0] - stops[stop][1]\n",
    "    print(f'Previous {passengers[stop-1]}, in {stops[stop][0]}, out {stops[stop][1]}, now on bus {pcount}')\n",
    "    passengers.append(pcount)\n",
    "    \n",
    "print(passengers)\n",
    "print(f'Max number of passengers {max(passengers)}')\n",
    "print(sum(passengers)/len(stops))"
   ]
  }
 ],
 "metadata": {
  "kernelspec": {
   "display_name": "Python 3",
   "language": "python",
   "name": "python3"
  },
  "language_info": {
   "codemirror_mode": {
    "name": "ipython",
    "version": 3
   },
   "file_extension": ".py",
   "mimetype": "text/x-python",
   "name": "python",
   "nbconvert_exporter": "python",
   "pygments_lexer": "ipython3",
   "version": "3.9.1"
  }
 },
 "nbformat": 4,
 "nbformat_minor": 4
}
